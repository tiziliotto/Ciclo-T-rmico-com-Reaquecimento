{
 "cells": [
  {
   "cell_type": "markdown",
   "metadata": {},
   "source": []
  },
  {
   "cell_type": "markdown",
   "metadata": {},
   "source": [
    "### Proposição da pressão intermediária de operação de um ciclo de Rankine com reaquecimento, pressão e temperatura dadas na caldeira, de modo que o rendimento seja o máximo possível."
   ]
  },
  {
   "cell_type": "code",
   "execution_count": 315,
   "metadata": {},
   "outputs": [],
   "source": [
    "#Carregando os pacotes do Python\n",
    "import numpy as np"
   ]
  },
  {
   "cell_type": "code",
   "execution_count": 316,
   "metadata": {},
   "outputs": [],
   "source": [
    "#Importando as bibliotecas do CoolProp\n",
    "import CoolProp as CP\n",
    "from CoolProp.CoolProp import PropsSI\n",
    "#Selecionando o fluido\n",
    "fluido = 'Water'"
   ]
  },
  {
   "cell_type": "code",
   "execution_count": 317,
   "metadata": {},
   "outputs": [],
   "source": [
    "#Informações do ciclo:\n",
    "P3 = 15. #bar, pressão na saída da caldeira\n",
    "T3 = 375. #ºC, temperatura na saída da caldeira\n",
    "P4 = 14. # bar, pressão na saída do primeiro estágio da turbina VALOR CHUTADO\n",
    "P6 = 1. #bar, pressão na saída do segundo estágio da turbina (entrada do condensador)"
   ]
  },
  {
   "cell_type": "code",
   "execution_count": 318,
   "metadata": {},
   "outputs": [],
   "source": [
    "def pegapropriedades(Pressure = None, Temperature = None, Fluido = None):\n",
    "    \n",
    "    #Importando as bibliotecas do CoolProp\n",
    "    import CoolProp as CP\n",
    "    from CoolProp.CoolProp import PropsSI\n",
    "    \n",
    "    #Rotina para extrair informações do estado\n",
    "    #Presão de entrada em bar, temperatura de entrada em ºC\n",
    "    #Entalpia e entropia em kJ/kg\n",
    "    \n",
    "    if not Temperature:\n",
    "        T = PropsSI('T', 'P', Pressure*1e5, 'Q', 0, Fluido); # K\n",
    "        temperature = T\n",
    "        slsat = PropsSI('S', 'P', Pressure*1e5, 'Q', 0, Fluido)/1000.\n",
    "        svsat = PropsSI('S', 'P', Pressure*1e5, 'Q', 1, Fluido)/1000.\n",
    "        entropy = [slsat, svsat]\n",
    "        hlsat = PropsSI('H', 'P', Pressure*1e5, 'Q', 0, Fluido)/1000.\n",
    "        hvsat = PropsSI('H', 'P', Pressure*1e5, 'Q', 1, Fluido)/1000.\n",
    "        enthalpy = [hlsat, hvsat]\n",
    "    else:\n",
    "        temperature = Temperature + 273.15\n",
    "        enthalpy = PropsSI('H', 'T', temperature, 'P', Pressure*1e5, Fluido)/1000.\n",
    "        entropy = PropsSI('S', 'T', temperature, 'P', Pressure*1e5, Fluido)/1000.\n",
    "    \n",
    "    return enthalpy, entropy, temperature "
   ]
  },
  {
   "cell_type": "markdown",
   "metadata": {},
   "source": [
    "### Determinação do estados intermediários no ciclo"
   ]
  },
  {
   "cell_type": "code",
   "execution_count": 319,
   "metadata": {},
   "outputs": [
    {
     "name": "stdout",
     "output_type": "stream",
     "text": [
      " --- Ponto 3 ---\n",
      "Temperatura: 648.15 K\n",
      "Pressao: 15.0 bar\n",
      "Entalpia especifica: 3202.33 kJ/kg\n",
      "Entropia especifica: 7.189 kJ/kg.K\n"
     ]
    }
   ],
   "source": [
    "#Ponto 3\n",
    "i = 3\n",
    "\n",
    "[H3, S3, T3K] = pegapropriedades(Pressure = P3, Temperature = T3, Fluido = fluido)\n",
    "\n",
    "print(\" --- Ponto \" + str(i) + \" ---\")\n",
    "print(\"Temperatura: \" + str(T3K) + \" K\")\n",
    "print(\"Pressao: \" + str(P3) + \" bar\")\n",
    "print(\"Entalpia especifica: \" + str(round(H3, 2)) + \" kJ/kg\")\n",
    "print(\"Entropia especifica: \" + str(round(S3, 4)) + \" kJ/kg.K\")"
   ]
  },
  {
   "cell_type": "code",
   "execution_count": 320,
   "metadata": {},
   "outputs": [
    {
     "name": "stdout",
     "output_type": "stream",
     "text": [
      "Como o titulo > 1, o calculo da Entalpia (H4) teve de ser refeito\n",
      " --- Ponto 4 ---\n",
      "Temperatura: 468.19 K\n",
      "Pressao: 14.0 bar\n",
      "Entalpia especifica: 3182.33 kJ/kg\n",
      "Entropia especifica: 7.189 kJ/kg.K\n",
      "Titulo: 1.1725\n"
     ]
    }
   ],
   "source": [
    "#Ponto 4\n",
    "i = 4\n",
    "S4 = S3\n",
    "\n",
    "[H4sat, S4sat, T4K] = pegapropriedades(Pressure = P4, Fluido = fluido)\n",
    "\n",
    "beta4 = (S4 - S4sat[0])/(S4sat[1] - S4sat[0])\n",
    "if beta4 > 1.0:\n",
    "    H4 = PropsSI('H', 'P', P4*1e5, 'S', S4*1e3, fluido)/1e3\n",
    "    print(\"Como o titulo > 1, o calculo da Entalpia (H4) teve de ser refeito\")\n",
    "else:\n",
    "    H4 = (1.-beta4)*H4sat[0] + beta4*H4sat[1]\n",
    "\n",
    "print(\" --- Ponto \" + str(i) + \" ---\")\n",
    "print(\"Temperatura: \" + str(round(T4K,2)) + \" K\")\n",
    "print(\"Pressao: \" + str(P4) + \" bar\")\n",
    "print(\"Entalpia especifica: \" + str(round(H4,2)) + \" kJ/kg\")\n",
    "print(\"Entropia especifica: \" + str(round(S4,4)) + \" kJ/kg.K\")\n",
    "print(\"Titulo: \" + str(round(beta4,4)))"
   ]
  },
  {
   "cell_type": "code",
   "execution_count": 321,
   "metadata": {},
   "outputs": [
    {
     "name": "stdout",
     "output_type": "stream",
     "text": [
      " --- Ponto 5 ---\n",
      "Temperatura: 648.15 K\n",
      "Pressao: 14.0 bar\n",
      "Entalpia especifica: 3204.14 kJ/kg\n",
      "Entropia especifica: 7.2229 kJ/kg.K\n"
     ]
    }
   ],
   "source": [
    "#Ponto 5\n",
    "i = 5\n",
    "T5 = T3\n",
    "P5 = P4\n",
    "\n",
    "[H5, S5, T5K] = pegapropriedades(Pressure = P5, Temperature = T5, Fluido = fluido)\n",
    "\n",
    "print(\" --- Ponto \" + str(i) + \" ---\")\n",
    "print(\"Temperatura: \" + str(T5K) + \" K\")\n",
    "print(\"Pressao: \" + str(P5) + \" bar\")\n",
    "print(\"Entalpia especifica: \" + str(round(H5,2)) + \" kJ/kg\")\n",
    "print(\"Entropia especifica: \" + str(round(S5,4)) + \" kJ/kg.K\")"
   ]
  },
  {
   "cell_type": "code",
   "execution_count": 322,
   "metadata": {},
   "outputs": [
    {
     "name": "stdout",
     "output_type": "stream",
     "text": [
      " --- Ponto 6 ---\n",
      "Temperatura: 372.76 K\n",
      "Pressao: 1.0 bar\n",
      "Entalpia especifica: 2624.28 kJ/kg\n",
      "Entropia especifica: 7.2229 kJ/kg.K\n",
      "Titulo: 0.9776\n"
     ]
    }
   ],
   "source": [
    "#Ponto 6\n",
    "i = 6\n",
    "S6 = S5\n",
    "\n",
    "[H6sat, S6sat, T6K] = pegapropriedades(Pressure = P6, Fluido = fluido)\n",
    "\n",
    "beta6 = (S6 - S6sat[0])/(S6sat[1] - S6sat[0])\n",
    "if beta6 > 1.0:\n",
    "    H6 = PropsSI('H', 'P', P4*1e5, 'S', S4*1e3, fluido)/1e3\n",
    "    print(\"Como o titulo > 1, o calculo da Entalpia (H6) teve de ser refeito\")\n",
    "else:\n",
    "    H6 = (1.-beta6)*H6sat[0] + beta6*H6sat[1]\n",
    "\n",
    "print(\" --- Ponto \" + str(i) + \" ---\")\n",
    "print(\"Temperatura: \" + str(round(T6K,2)) + \" K\")\n",
    "print(\"Pressao: \" + str(P6) + \" bar\")\n",
    "print(\"Entalpia especifica: \" + str(round(H6,2)) + \" kJ/kg\")\n",
    "print(\"Entropia especifica: \" + str(round(S6,4)) + \" kJ/kg.K\")\n",
    "print(\"Titulo: \" + str(round(beta6,4)))"
   ]
  },
  {
   "cell_type": "code",
   "execution_count": 323,
   "metadata": {},
   "outputs": [
    {
     "name": "stdout",
     "output_type": "stream",
     "text": [
      "O trabalho especifico total gerado pela turbina é: 599.87 kJ/kg\n"
     ]
    }
   ],
   "source": [
    "#Cálculo do trabalho total produzido pela turbina\n",
    "Wt = (H4 - H3) + (H6 - H5)\n",
    "\n",
    "print(\"O trabalho especifico total gerado pela turbina é: \" + str(round(abs(Wt),2)) + \" kJ/kg\")"
   ]
  },
  {
   "cell_type": "code",
   "execution_count": 324,
   "metadata": {},
   "outputs": [
    {
     "name": "stdout",
     "output_type": "stream",
     "text": [
      " --- Ponto 1 ---\n",
      "Pressao: 14.0 bar\n",
      "Entalpia especifica: 829.97 kJ/kg\n",
      "Entropia especifica: 2.2835 kJ/kg.K\n"
     ]
    }
   ],
   "source": [
    "#Ponto 1 (Líquido saturado)\n",
    "i = 1\n",
    "P1 = P4\n",
    "\n",
    "D1 = PropsSI('D', 'P', P1*1e5, 'Q', 0, fluido) #em kg/m^3\n",
    "H1 = PropsSI('H', 'P', P1*1e5, 'Q', 0, fluido)/1e3 #em kJ/kg\n",
    "S1 = PropsSI('S', 'P', P1*1e5, 'Q', 0, fluido)/1e3 #em kJ/kg.K\n",
    "\n",
    "print(\" --- Ponto \" + str(i) + \" ---\")\n",
    "print(\"Pressao: \" + str(P1) + \" bar\")\n",
    "print(\"Entalpia especifica: \" + str(round(H1,2)) + \" kJ/kg\")\n",
    "print(\"Entropia especifica: \" + str(round(S1,4)) + \" kJ/kg.K\")"
   ]
  },
  {
   "cell_type": "code",
   "execution_count": 325,
   "metadata": {},
   "outputs": [
    {
     "name": "stdout",
     "output_type": "stream",
     "text": [
      " --- Ponto 2 ---\n",
      "Temperatura: 468.21 K\n",
      "Pressao: 15.0 bar\n",
      "Entalpia especifica: 830.08 kJ/kg\n",
      "Entropia especifica: 2.2835 kJ/kg.K\n"
     ]
    }
   ],
   "source": [
    "#Ponto 2\n",
    "i = 2\n",
    "P2 = P3\n",
    "\n",
    "T2 = PropsSI('T', 'P', P2*1e5, 'S', S1*1e3, fluido) #em K\n",
    "H2 = PropsSI('H', 'P', P2*1e5, 'S', S1*1e3, fluido)/1e3 #em kJ/kg\n",
    "S2 = PropsSI('S', 'P', P2*1e5, 'S', S1*1e3, fluido)/1e3 #em kJ/kg.K\n",
    "\n",
    "print(\" --- Ponto \" + str(i) + \" ---\")\n",
    "print(\"Temperatura: \" + str(round(T2,2)) + \" K\")\n",
    "print(\"Pressao: \" + str(P2) + \" bar\")\n",
    "print(\"Entalpia especifica: \" + str(round(H2,2)) + \" kJ/kg\")\n",
    "print(\"Entropia especifica: \" + str(round(S2,4)) + \" kJ/kg.K\")"
   ]
  },
  {
   "cell_type": "code",
   "execution_count": 326,
   "metadata": {},
   "outputs": [
    {
     "name": "stdout",
     "output_type": "stream",
     "text": [
      "O trabalho da bomba pela diferenca de entalpias é: 0.1149 kJ/kg\n",
      "O trabalho da bomba pela diferenca de pressao é: 0.1149 kJ/kg\n"
     ]
    }
   ],
   "source": [
    "#Cálculo do trabalho da bomba  \n",
    "Wb1 = (H2 - H1)\n",
    "Wb2 = (P2 - P1)/D1*1e2\n",
    "\n",
    "print(\"O trabalho da bomba pela diferenca de entalpias é: \" + str(round(Wb1,4)) + \" kJ/kg\")\n",
    "print(\"O trabalho da bomba pela diferenca de pressao é: \" + str(round(Wb2,4)) + \" kJ/kg\")"
   ]
  },
  {
   "cell_type": "code",
   "execution_count": 327,
   "metadata": {},
   "outputs": [
    {
     "name": "stdout",
     "output_type": "stream",
     "text": [
      "Trabalho especifico liquido produzido pelo ciclo: 599.7552 kJ/kg\n",
      "Calor absorvido pelo ciclo na caldeira: 2394.0684 kJ/kg\n",
      "Rendimento percentual do ciclo: 25.0517%\n"
     ]
    }
   ],
   "source": [
    "#Cálculos do trabalho líquido e rendimento\n",
    "Wliq = abs(Wt) - abs(Wb1)\n",
    "Qq = (H3 - H2) + (H5 - H4)\n",
    "rend = Wliq/Qq\n",
    "\n",
    "print(\"Trabalho especifico liquido produzido pelo ciclo: \" + str(round(Wliq,4)) + \" kJ/kg\")\n",
    "print(\"Calor absorvido pelo ciclo na caldeira: \" + str(round(Qq,4)) + \" kJ/kg\")\n",
    "print(\"Rendimento percentual do ciclo: \" + str(round(rend*100,4)) + \"%\")"
   ]
  },
  {
   "cell_type": "code",
   "execution_count": 328,
   "metadata": {},
   "outputs": [
    {
     "name": "stdout",
     "output_type": "stream",
     "text": [
      "O rendimento maximo encontrado é 25.0517% para uma pressao de 14 bar\n"
     ]
    }
   ],
   "source": [
    "#Calculo da pressão ótima para o máximo rendimento\n",
    "vetorR = []\n",
    "vetorP = []\n",
    "posicao\n",
    "for P4otima in range(2, 15):\n",
    "    \n",
    "    [H3, S3, T3K] = pegapropriedades(Pressure = P3, Temperature = T3, Fluido = fluido)\n",
    "\n",
    "    S4 = S3\n",
    "    [H4sat, S4sat, T4K] = pegapropriedades(Pressure = P4otima, Fluido = fluido)\n",
    "    beta4 = (S4 - S4sat[0])/(S4sat[1] - S4sat[0])\n",
    "    if beta4 > 1.0:\n",
    "        H4 = PropsSI('H', 'P', P4otima*1e5, 'S', S4*1e3, fluido)/1e3\n",
    "    else:\n",
    "        H4 = (1.-beta4)*H4sat[0] + beta4*H4sat[1]\n",
    "\n",
    "    T5 = T3\n",
    "    P5 = P4otima\n",
    "    [H5, S5, T5K] = pegapropriedades(Pressure = P5, Temperature = T5, Fluido = fluido)\n",
    "\n",
    "    S6 = S5\n",
    "    [H6sat, S6sat, T6K] = pegapropriedades(Pressure = P6, Fluido = fluido)\n",
    "    beta6 = (S6 - S6sat[0])/(S6sat[1] - S6sat[0])\n",
    "    if beta6 > 1.0:\n",
    "        H6 = PropsSI('H', 'P', P4otima*1e5, 'S', S4*1e3, fluido)/1e3\n",
    "    else:\n",
    "        H6 = (1.-beta6)*H6sat[0] + beta6*H6sat[1]\n",
    "    \n",
    "    Wt = (H4 - H3) + (H6 - H5)\n",
    "\n",
    "    P1 = P4otima\n",
    "    H1 = PropsSI('H', 'P', P1*1e5, 'Q', 0, fluido)/1e3 #em kJ/kg\n",
    "    P2 = P3\n",
    "    H2 = PropsSI('H', 'P', P2*1e5, 'S', S1*1e3, fluido)/1e3 #em kJ/kg\n",
    "\n",
    "    Wb1 = (H2 - H1)\n",
    "    Wliq = abs(Wt) - abs(Wb1)\n",
    "    Qq = (H3 - H2) + (H5 - H4)\n",
    "\n",
    "    rend = Wliq/Qq\n",
    "    \n",
    "    vetorR.append(rend)\n",
    "    vetorP.append(P4otima)\n",
    "    \n",
    "for i in range(0, len(vetorR)):\n",
    "    if vetorR[i] == max(vetorR):\n",
    "        posicao = i\n",
    "    i = i + 1\n",
    "    Potima = vetorP[posicao]\n",
    "    \n",
    "print(\"O rendimento maximo encontrado é \" + str(round(max(vetorR)*100,4)) + \"% para uma pressao de \" + str(Potima) + \" bar\")"
   ]
  }
 ],
 "metadata": {
  "kernelspec": {
   "display_name": "Python 3",
   "language": "python",
   "name": "python3"
  },
  "language_info": {
   "codemirror_mode": {
    "name": "ipython",
    "version": 3
   },
   "file_extension": ".py",
   "mimetype": "text/x-python",
   "name": "python",
   "nbconvert_exporter": "python",
   "pygments_lexer": "ipython3",
   "version": "3.8.5"
  }
 },
 "nbformat": 4,
 "nbformat_minor": 1
}
